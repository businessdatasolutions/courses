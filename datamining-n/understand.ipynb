{
  "cells": [
    {
      "cell_type": "markdown",
      "metadata": {},
      "source": [
        "# Data Understanding {#understand}\n",
        "\n",
        "<iframe width=\"560\" height=\"315\" src=\"https://www.youtube.com/embed/PExdWWcxmro\" title=\"YouTube video player\" frameborder=\"0\" allow=\"accelerometer; autoplay; clipboard-write; encrypted-media; gyroscope; picture-in-picture; web-share\" allowfullscreen></iframe>\n",
        "\n",
        "Links:\n",
        "\n",
        "1.  <a href=\"https://www.kaggle.com/\" target=\"_blank\">www.kaggle.com/</a>\n",
        "2.  <a href=\"https://datasetsearch.research.google.com\" target=\"_blank\">datasetsearch.research.google...</a>\n",
        "3.  <a href=\"https://data.fivethirtyeight.com/\" target=\"_blank\">data.fivethirtyeight.com/</a>\n",
        "4.  <a href=\"https://data.gov/\" target=\"_blank\">data.gov/</a>\n",
        "5.  <a href=\"https://github.com/search?q=dataset\" target=\"_blank\">github.com/search?q=dataset</a>\n",
        "6.  <a href=\"https://data.nasa.gov/\" target=\"_blank\">data.nasa.gov/</a>\n",
        "7.  <a href=\"https://github.com/HAN-M3DM-Data-Mining/assignments/tree/master/datasets\" target=\"_blank\">selected datasets</a>\n",
        "\n",
        "```{r echo=FALSE, message=TRUE, warning=TRUE}\n",
        "index <- c(\"1\", \"2\")\n",
        "topic <- c(\"Finding Data\", \"Descriptive Statistics\")\n",
        "tasks <- c(\"Explore the different sources of data that may be used in data mining, and how to extract and access this data.\", \"Calculate basic descriptive statistics that are commonly used in data mining, and understand how they are used to summarize datasets.\")\n",
        "activities <- c(\"Think-Pair-Share: students will individually brainstorm potential sources of data, pair up with a partner to discuss, and then share with the class.\", \" Jigsaw: students will be grouped into teams and tasked to gather data from various sources, conduct descriptive statistics, and report their findings to the rest of the class.\")\n",
        "student <- c(\"'We learned about various data sources and perspectives of different students during the brainstorming activity.' \n",
        "\", \"'We learned the importance of teamwork, critical thinking, and communication skills by working together to conduct descriptive statistics on our assigned data set.'\")\n",
        "teacher <- c(\"'Our objective here is to generate a list of possible sources of data that we can use for data mining. As a teacher, I want you to participate actively in brainstorming and support each other's thoughts. As students, you will be able to collaborate and gain insights from your peers.'\", \"'The goal here is to give every student a chance to delve deeper into specific aspects of data mining. As a teacher, my role is to facilitate the group and ensure everyone is participating. As students, you are expected to synthesize, analyze, and present your findings through a collaborative effort.'\")\n",
        "headers <- c(\"\",\"Topic\", \"Tasks\", \"Activities\", \"Student\", \"Teacher\")\n",
        "outlineDF <- data.frame(index, topic, tasks, activities, student, teacher)\n",
        "colnames(outlineDF) <- headers\n",
        "\n",
        "knitr::kable(\n",
        "  outlineDF, longtable = TRUE, booktabs = TRUE,\n",
        "  caption = 'Lesson outline'\n",
        ")\n",
        "```\n",
        "ETL stands for Extract, Transform, and Load. It is a process used in data integration and data warehousing to extract data from various sources, transform it into a consistent format, and load it into a target system. The \"Extract\" phase involves gathering data from multiple sources, such as databases, spreadsheets, or APIs. In the \"Transform\" phase, the data is cleaned, validated, and standardized to ensure consistency and quality. Finally, in the \"Load\" phase, the transformed data is loaded into a target system, such as a data warehouse or a business intelligence tool, making it accessible for analysis and reporting. ETL is a crucial step in data management to ensure accurate and usable data for decision-making.\n",
        "\n",
        "Once you have accessed your dataset you'll want to get familiar with the content and gain insights into its quality and structure. Data analysts or data scientists collect and examine the data to understand its relevance to the project's goals. They explore the data using various techniques, such as descriptive statistics, data visualization, and data profiling. The goal is to identify patterns, relationships, and potential issues within the dataset, which helps in formulating initial hypotheses and refining the project's objectives.\n",
        "\n",
        "Below is a very trivial example."
      ]
    },
    {
      "cell_type": "code",
      "metadata": {},
      "source": [
        "import pandas as pd\n",
        "import plotly.express as px\n",
        "\n",
        "# Extract\n",
        "url = \"https://raw.githubusercontent.com/businessdatasolutions/courses/main/datamining-n/datasets/ai.csv\"\n",
        "rawDF = pd.read_csv(url).sort_values(by=['year', 'Domain'])\n",
        "# Transform\n",
        "rawDF = rawDF.sort_values(by=['year', 'Domain'])\n",
        "# Load\n",
        "fig = px.scatter(rawDF, x=\"year\", y=\"Training_computation_petaflop\", color=\"Domain\", log_y=True, hover_name=\"Entity\", title=\"Computation used to train notable artificial intelligence systems\")\n",
        "fig.update_traces(marker={'size': 12})"
      ],
      "execution_count": null,
      "outputs": []
    }
  ],
  "metadata": {
    "kernelspec": {
      "name": "python3",
      "language": "python",
      "display_name": "Python 3 (ipykernel)"
    }
  },
  "nbformat": 4,
  "nbformat_minor": 4
}