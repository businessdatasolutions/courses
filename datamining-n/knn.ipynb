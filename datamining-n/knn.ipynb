{
  "cells": [
    {
      "cell_type": "markdown",
      "metadata": {},
      "source": [
        "# Lazy Learning with k-Nearest Neighbors {#knn}\n",
        "\n",
        "<iframe width=\"560\" height=\"315\" src=\"https://www.youtube.com/embed/MDniRwXizWo\" frameborder=\"0\" allow=\"accelerometer; autoplay; clipboard-write; encrypted-media; gyroscope; picture-in-picture\" allowfullscreen>\n",
        "\n",
        "</iframe>\n",
        "\n",
        "K-nearest neighbors is an algorithm that is commonly used in data mining. It works by identifying the k-nearest data points to a given point, and using their values to predict the value of the point in question.\n",
        "\n",
        "```{r echo=FALSE, message=TRUE, warning=TRUE}\n",
        "index <- c(\"2\")\n",
        "topic <- c(\"K-Nearest Neighbors\")\n",
        "tasks <- c(\"Build a k-nearest neighbors model and explain how it may be used to predict the values of data points.\")\n",
        "activities <- c(\"Follow along: students will participate in a guided demo of a data mining process building a model using K-Nearest Neighbors and evaluating its accuracy using a Confusion Matrix.\")\n",
        "student <- c(\"'We learned about the KNN algorithm, its advantages and limitations, as well as how to interpret a confusion matrix to evaluate the accuracy of a model.'\")\n",
        "teacher <- c(\"'Our goal here is to understand how data mining algorithms work and how they can be applied to real-world problems. As a teacher, my role is to clarify any doubts and ensure that everyone is actively participating. As students, you will be challenged to apply your knowledge to a problem and think critically.'\")\n",
        "headers <- c(\"\",\"Topic\", \"Tasks\", \"Activities\", \"Student\", \"Teacher\")\n",
        "outlineDF <- data.frame(index, topic, tasks, activities, student, teacher)\n",
        "colnames(outlineDF) <- headers\n",
        "\n",
        "knitr::kable(\n",
        "  outlineDF, longtable = TRUE, booktabs = TRUE,\n",
        "  caption = 'Lesson outline'\n",
        ")\n",
        "```"
      ]
    },
    {
      "cell_type": "code",
      "metadata": {},
      "source": [
        "import pandas as pd\n",
        "from pandas.plotting import scatter_matrix\n",
        "from pandas.api.types import CategoricalDtype\n",
        "from IPython.display import display, Markdown\n",
        "import numpy as np\n",
        "from sklearn.model_selection import train_test_split\n",
        "from sklearn.neighbors import KNeighborsClassifier\n",
        "from sklearn.metrics import confusion_matrix, ConfusionMatrixDisplay\n",
        "import matplotlib.pyplot as plt"
      ],
      "execution_count": null,
      "outputs": []
    },
    {
      "cell_type": "markdown",
      "metadata": {},
      "source": [
        "## Business Case: Diagnosing Breast Cancer\n",
        "\n",
        "Breast cancer is the top cancer in women both in the developed and the developing world. In the Netherlands it is the most pervasive form of cancer [@noauthor_who_nodate]. In order to improve breast cancer outcome and survival early detection remains the most important instrument for breast cancer control. If machine learning could automate the identification of cancer, it would improve efficiency of the detection process and might also increase its effectiveness by providing greater detection accuracy.\n",
        "\n",
        "## Data Understanding\n",
        "\n",
        "The data we will be using comes from the University of Wisconsin and is available online as an open source dataset [@noauthor_uci_cancer_nodate]. It includes measurements from digitized images from from fine-needle aspirates of breast mass. The values represent cell nuclei features.\n",
        "\n",
        "For convenience the data in csv format is stored on Github. We can access it directly using a function for reading csv from the `pandas` library"
      ]
    },
    {
      "cell_type": "code",
      "metadata": {},
      "source": [
        "url = \"https://raw.githubusercontent.com/businessdatasolutions/courses/main/data%20mining/gitbook/datasets/breastcancer.csv\"\n",
        "rawDF = pd.read_csv(url)"
      ],
      "execution_count": null,
      "outputs": []
    },
    {
      "cell_type": "markdown",
      "metadata": {},
      "source": [
        "Using the `info()` function we can have some basic information about the dataset."
      ]
    },
    {
      "cell_type": "code",
      "metadata": {},
      "source": [
        "rawDF.info()"
      ],
      "execution_count": null,
      "outputs": []
    },
    {
      "cell_type": "markdown",
      "metadata": {},
      "source": [
        "We can also check visually for patterns."
      ]
    },
    {
      "cell_type": "code",
      "metadata": {},
      "source": [
        "selDF = rawDF.filter(regex=\"mean\").iloc[:, :6]\n",
        "fig = scatter_matrix(selDF, alpha=0.2, figsize=(6, 6), diagonal=\"hist\")\n",
        "for ax in fig.flatten():\n",
        "    ax.xaxis.label.set_rotation(90)\n",
        "    ax.yaxis.label.set_rotation(0)\n",
        "    ax.yaxis.label.set_ha(\"right\")\n",
        "plt.tight_layout()\n",
        "plt.gcf().subplots_adjust(wspace=0, hspace=0)\n",
        "plt.show()"
      ],
      "execution_count": null,
      "outputs": []
    },
    {
      "cell_type": "markdown",
      "metadata": {},
      "source": [
        "**Question:**\n",
        "\n",
        "-   *What patterns do you observe and to what extend are they surprising?*\n",
        "\n",
        "## Preparation\n",
        "\n",
        "The first variable, `id`, contains unique patient IDs. The IDs do not possess any relevant information for making predictions, so we will delete it from the dataset."
      ]
    },
    {
      "cell_type": "code",
      "metadata": {},
      "source": [
        "cleanDF = rawDF.drop([\"id\"], axis=1)\n",
        "cleanDF.head()"
      ],
      "execution_count": null,
      "outputs": []
    },
    {
      "cell_type": "markdown",
      "metadata": {},
      "source": [
        "The variable named `diagnosis` contains the outcomes we would like to predict - 'B' for 'Benign' and 'M' for 'Malignant'. The variable we would like to predict is called the 'label'. We can look at the counts for both outcomes, using the `value_counts()` function. When we set the normalize setting to `True` we get the the proportions."
      ]
    },
    {
      "cell_type": "code",
      "metadata": {},
      "source": [
        "cntDiag = cleanDF[\"diagnosis\"].value_counts()\n",
        "propDiag = cleanDF[\"diagnosis\"].value_counts(normalize=True)\n",
        "cntDiag\n",
        "propDiag"
      ],
      "execution_count": null,
      "outputs": []
    },
    {
      "cell_type": "markdown",
      "metadata": {},
      "source": [
        "Looking again at the results from the `info()` function you'll notice that the variable `diagnosis` is coded as text (`object`). Many models require that the label is of type `category`. The `pandas` library has a function that can transform a `object` type to `category`."
      ]
    },
    {
      "cell_type": "code",
      "metadata": {},
      "source": [
        "catType = CategoricalDtype(categories=[\"B\", \"M\"], ordered=False)\n",
        "cleanDF[\"diagnosis\"] = cleanDF[\"diagnosis\"].astype(catType)\n",
        "cleanDF[\"diagnosis\"]"
      ],
      "execution_count": null,
      "outputs": []
    },
    {
      "cell_type": "markdown",
      "metadata": {},
      "source": [
        "The features consist of three different measurements of ten characteristics. We will take three characteristics and have a closer look."
      ]
    },
    {
      "cell_type": "code",
      "metadata": {},
      "source": [
        "cleanDF[[\"radius_mean\", \"area_mean\", \"smoothness_mean\"]].describe()"
      ],
      "execution_count": null,
      "outputs": []
    },
    {
      "cell_type": "markdown",
      "metadata": {},
      "source": [
        "You'll notice that the three variables have very different ranges and as a consequence `area_mean` will have a larger impact on the distance calculation than the `smootness_mean`. This could potentially cause problems for modeling. To solve this we'll apply normalization to rescale all features to a standard range of values.\n",
        "\n",
        "We will write our own normalization function,"
      ]
    },
    {
      "cell_type": "code",
      "metadata": {},
      "source": [
        "def normalize(x):\n",
        "    return (x - min(x)) / (\n",
        "        max(x) - min(x)\n",
        "    )  # distance of item value - minimum vector value divided by the range of all vector values\n",
        "\n",
        "\n",
        "testSet1 = np.arange(1, 6)\n",
        "testSet2 = np.arange(1, 6) * 10\n",
        "\n",
        "\n",
        "print(f\"testSet1: {testSet1}\\n\")\n",
        "print(f\"testSet2: {testSet2}\\n\")\n",
        "print(f\"Normalized testSet1: {normalize(testSet1)}\\n\")\n",
        "print(f\"Normalized testSet2: {normalize(testSet2)}\\n\")"
      ],
      "execution_count": null,
      "outputs": []
    },
    {
      "cell_type": "markdown",
      "metadata": {},
      "source": [
        "and apply it to all the numerical variables in the dataframe."
      ]
    },
    {
      "cell_type": "code",
      "metadata": {},
      "source": [
        "excluded = [\"diagnosis\"]  # list of columns to exclude\n",
        "# X = cleanDF.loc[:, ~cleanDF.columns.isin(excluded)]\n",
        "X = cleanDF.drop(excluded, axis=1)\n",
        "X = X.apply(normalize, axis=0)\n",
        "X[[\"radius_mean\", \"area_mean\", \"smoothness_mean\"]].describe()"
      ],
      "execution_count": null,
      "outputs": []
    },
    {
      "cell_type": "markdown",
      "metadata": {},
      "source": [
        "When we take the variables we've selected earlier and look at the summary parameters again, we'll see that the normalization was successful.\n",
        "\n",
        "We can now split our data into training and test sets."
      ]
    },
    {
      "cell_type": "code",
      "metadata": {},
      "source": [
        "y = cleanDF[\"diagnosis\"]\n",
        "X_train, X_test, y_train, y_test = train_test_split(\n",
        "    X, y, test_size=0.3, random_state=42\n",
        ")"
      ],
      "execution_count": null,
      "outputs": []
    },
    {
      "cell_type": "markdown",
      "metadata": {},
      "source": [
        "Here, X_train and y_train are the features and labels of the training data, respectively, and X_test and y_test are the features and labels of the test data.\n",
        "\n",
        "Now we can train and evaluate our kNN model.\n",
        "\n",
        "## Modeling and Evaluation\n",
        "\n",
        "KNN is a instance-based learning algorithm. It stores all of the training data and makes predictions based on the similarity between the input instance and the stored instances. The prediction is based on the majority class among the K nearest neighbors of the input instance.\n",
        "\n",
        "The distance between instances is typically measured using the Euclidean distance. However, other distance measures such as the Manhattan distance or the Minkowski distance can also be used.\n",
        "\n",
        "The pseudocode for the KNN algorithm is as follows:\n",
        "\n",
        "::: {.p-2 style=\"background-color:#f0f3f4;\"}\n",
        "```{=html}\n",
        "<pre><code class=''>\n",
        "<span class=\"hljs-keyword\">for</span> <span class=\"hljs-keyword\">each</span> instance <span class=\"hljs-keyword\">in</span> the test <span class=\"hljs-keyword\">set</span>:\n",
        "    <span class=\"hljs-keyword\">for</span> <span class=\"hljs-keyword\">each</span> instance <span class=\"hljs-keyword\">in</span> the training <span class=\"hljs-keyword\">set</span>:\n",
        "        calculate the distance between the two instances\n",
        "    sort the distances <span class=\"hljs-keyword\">in</span> ascending <span class=\"hljs-keyword\">order</span>\n",
        "    find the K nearest neighbors\n",
        "    predict the <span class=\"hljs-keyword\">class</span> based <span class=\"hljs-keyword\">on</span> the majority <span class=\"hljs-keyword\">class</span> among the K nearest neighbors\n",
        "</code></pre>\n",
        "```\n",
        ":::\n",
        "\n",
        "To train the knn model we only need one single function from the `sklearn` library. The `fit()` function trains the model on the training data. The trained model is applied to the set with test features and the `predict()` function gives back a set of predicted values for y.\n",
        "\n",
        "NOTE: Somehow `predict()` generates error with number columns larger than 15. This is a new issue. It used to work."
      ]
    },
    {
      "cell_type": "code",
      "metadata": {},
      "source": [
        "knn = KNeighborsClassifier(n_neighbors=5)\n",
        "knn.fit(X_train.iloc[:,:15], y_train)\n",
        "# # make predictions on the test set\n",
        "y_pred = knn.predict((X_test.iloc[:,:15]))"
      ],
      "execution_count": null,
      "outputs": []
    },
    {
      "cell_type": "markdown",
      "metadata": {},
      "source": [
        "Now that we have a set of predicted labels we can compare these with the actual labels. A diffusion table shows how well the model performed.\n",
        "\n",
        "```{r difftable-fig, echo=FALSE, fig.align='center', fig.asp=.75, fig.cap='Standard diffusion table. Taken from: https://emj.bmj.com/content/emermed/36/7/431/F1.large.jpg', message=TRUE, warning=TRUE, out.width='80%'}\n",
        "knitr::include_graphics(rep('images/diffusion.png'))\n",
        "```\n",
        "\n",
        "Here is our own table:"
      ]
    },
    {
      "cell_type": "code",
      "metadata": {},
      "source": [
        "cm = confusion_matrix(y_test, y_pred, labels=knn.classes_)\n",
        "cm"
      ],
      "execution_count": null,
      "outputs": []
    },
    {
      "cell_type": "code",
      "metadata": {},
      "source": [
        "disp = ConfusionMatrixDisplay(confusion_matrix=cm, display_labels=knn.classes_)\n",
        "disp.plot()\n",
        "plt.show()"
      ],
      "execution_count": null,
      "outputs": []
    },
    {
      "cell_type": "markdown",
      "metadata": {},
      "source": [
        "**Questions:**\n",
        "\n",
        "1.  *How would you assess the overall performance of the model?*\n",
        "2.  *What would you consider as more costly: high false negatives or high false positives levels? Why?*\n",
        "3.  *Try to improve the model by changing some parameters of the `KNeighborsClassifier()` function*"
      ]
    }
  ],
  "metadata": {
    "kernelspec": {
      "name": "envpy39",
      "language": "python",
      "display_name": "envpy39"
    }
  },
  "nbformat": 4,
  "nbformat_minor": 4
}